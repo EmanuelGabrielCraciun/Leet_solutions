{
 "cells": [
  {
   "cell_type": "markdown",
   "metadata": {},
   "source": [
    "# LeetCode Solutions 📘\n",
    "> Soluzioni personali con spiegazioni a problemi di algoritmi e strutture dati\n",
    "\n",
    "---\n",
    "\n",
    "## 🔹 Easy\n",
    "\n",
    "\n",
    "⚠️ Solo problemi free (non premium)(ovviamente).\n",
    "\n",
    "\n",
    "🐱 Cats might get in the code, no panic, pet the cat.🐱"
   ]
  },
  {
   "cell_type": "code",
   "execution_count": null,
   "metadata": {},
   "outputs": [
    {
     "name": "stdout",
     "output_type": "stream",
     "text": [
      "False\n"
     ]
    }
   ],
   "source": [
    "#controllo le l'intero e palindromo\n",
    "\n",
    "class Solution:\n",
    "    def is_Palindromo(self, x: int)->bool:\n",
    "        if x < 0:\n",
    "            return False\n",
    "        x_str = str(x)\n",
    "        return(x_str == x_str[::-1])\n",
    "\n",
    "s=Solution()\n",
    "i=int(input(\"inserire il numero\"))\n",
    "print(s.is_Palindromo(i))\n"
   ]
  },
  {
   "cell_type": "code",
   "execution_count": null,
   "metadata": {},
   "outputs": [
    {
     "name": "stdout",
     "output_type": "stream",
     "text": [
      "994\n"
     ]
    }
   ],
   "source": [
    "#da numeri romani a numeri belli\n",
    "class Solution:\n",
    "    def romanToInt(self, s: str)->int:\n",
    "        #creo un dizzionario con tutti i valori dentro\n",
    "        rtm = {\n",
    "            'I': 1, 'V': 5, 'X': 10, 'L': 50,\n",
    "            'C': 100, 'D': 500, 'M': 1000\n",
    "        }\n",
    "        result = 0\n",
    "        #ricevo in entrata la lunghezza della stringa in numeri romani \n",
    "        for i in range(len(s)):\n",
    "            #in base a dove si trovi in numero romano minore si somma o sottrae \n",
    "            if i + 1 < len(s) and rtm[s[i]]<rtm[s[i+1]]:\n",
    "                result -= rtm[s[i]]\n",
    "            else:\n",
    "                result += rtm[s[i]]\n",
    "        return result\n",
    "        \n",
    "s=Solution()\n",
    "Nr=input(\"Inserire numero romano da convertire\")\n",
    "print(s.romanToInt(Nr))  "
   ]
  },
  {
   "cell_type": "code",
   "execution_count": 24,
   "metadata": {},
   "outputs": [
    {
     "name": "stdout",
     "output_type": "stream",
     "text": [
      "3\n"
     ]
    }
   ],
   "source": [
    "\n",
    "def solveMeFirst(a,b):\n",
    "    c=a+b\n",
    "    return(c)\n",
    "    \n",
    "a = int(input(\"dammi il primo numero\"))\n",
    "b = int(input(\"dammi il secondo numero\"))\n",
    "\n",
    "print(solveMeFirst(a,b))\n"
   ]
  },
  {
   "cell_type": "markdown",
   "metadata": {},
   "source": []
  },
  {
   "cell_type": "code",
   "execution_count": 18,
   "metadata": {},
   "outputs": [
    {
     "name": "stdout",
     "output_type": "stream",
     "text": [
      "l'array generato e' [9, 3, 11, 5, 19, 15, 3, 12, 8, 5]\n",
      "90\n"
     ]
    }
   ],
   "source": [
    "#Somma degli elementi di un array\n",
    "import random\n",
    "\n",
    "\n",
    "def somma_array(lunghezza):\n",
    "    somma = 0\n",
    "    a=[random.randint(1,19) for _ in range(lunghezza)]\n",
    "    print(f\"l'array generato e' {a}\")\n",
    "\n",
    "    for i in a:\n",
    "        somma += i\n",
    "    return (somma)\n",
    "print (somma_array(10))\n",
    "\n"
   ]
  },
  {
   "cell_type": "code",
   "execution_count": 4,
   "metadata": {},
   "outputs": [
    {
     "name": "stdout",
     "output_type": "stream",
     "text": [
      "Array compilato: [61, 26]\n",
      "Lunghezza dell'array: 2\n"
     ]
    },
    {
     "data": {
      "text/plain": [
       "87"
      ]
     },
     "execution_count": 4,
     "metadata": {},
     "output_type": "execute_result"
    }
   ],
   "source": [
    "num = input(\"inseire i numeri in input separati da spazio: \").split()\n",
    "\n",
    "num = [int(x) for x in num]\n",
    "print(\"Array compilato:\", num)\n",
    "print(\"Lunghezza dell'array:\", len(num))\n",
    "\n",
    "def simpleArraySum(ar):\n",
    "    # Write your code here\n",
    "    somma = 0\n",
    "    for i in ar:\n",
    "        somma += i\n",
    "    return somma\n",
    "\n",
    "simpleArraySum(num)"
   ]
  },
  {
   "cell_type": "markdown",
   "metadata": {},
   "source": [
    "Facciamo un gioco"
   ]
  },
  {
   "cell_type": "code",
   "execution_count": null,
   "metadata": {},
   "outputs": [
    {
     "name": "stdout",
     "output_type": "stream",
     "text": [
      "che fortuna... Il prossimo\n",
      "che fortuna... Il prossimo\n",
      "che fortuna... Il prossimo\n",
      "che noia... non esiste il file\n"
     ]
    }
   ],
   "source": [
    "import os\n",
    "import random \n",
    "\n",
    "effetto = r\"c:\\Users\\emanu\\Desktop\\coso.csv\"\n",
    "proiettile = random.randint(1,6)\n",
    "\n",
    "while True:\n",
    "    camera = int(input(\"scegli di che morte morire --------> da 1 a 6\"))\n",
    "    if camera == proiettile:\n",
    "        if os.path.isfile(effetto):\n",
    "            os.remove(effetto)\n",
    "            print(\"poteva andarti meglio...\")\n",
    "        \n",
    "\n",
    "        else:\n",
    "            print(\"che noia... non esiste il file\")\n",
    "        break \n",
    "    else:\n",
    "        print(f\"che fortuna... Il prossimo\")\n",
    "    \n",
    "        proiettile = random.randint(1,6)\n",
    "\n",
    "\n",
    "\n"
   ]
  },
  {
   "cell_type": "markdown",
   "metadata": {},
   "source": [
    "Confronto se l'ordine delle parentesi va bene \n",
    "() si \n",
    "[] si\n",
    "{} si \n",
    "[({})] si \n",
    "[) no\n",
    "([)] no "
   ]
  },
  {
   "cell_type": "code",
   "execution_count": 3,
   "metadata": {},
   "outputs": [
    {
     "name": "stdout",
     "output_type": "stream",
     "text": [
      "False\n"
     ]
    }
   ],
   "source": [
    "class Solution:\n",
    "    def  isValid(self, s: str)->bool:\n",
    "        stack=[]\n",
    "        mapping = {\n",
    "            \")\":\"(\",\n",
    "            \"]\":\"[\",\n",
    "            \"}\":\"{\"\n",
    "        }\n",
    "\n",
    "        for char in s:\n",
    "            if char in mapping.values():\n",
    "                stack.append(char)\n",
    "            elif char in mapping.keys():\n",
    "                #quindi qua confronta ed eventualemnte rimuove\n",
    "                if not stack or mapping[char] != stack.pop():\n",
    "                    return False\n",
    "        return not stack\n",
    "\n",
    "\n",
    "sl = Solution()\n",
    "a = input(\"inserire la stringa: \")\n",
    "print(sl.isValid(a))"
   ]
  },
  {
   "cell_type": "markdown",
   "metadata": {},
   "source": [
    "Controllo il prefisso in comune e poi lo restituisce \n",
    "---> si da per scontato che il primo elemento sia il prefisso comune \n",
    "lo confronta col primo \n",
    "    ---> se il non sono uguali allora rimuove l'ultimo elemento fiche non lo    sono (se la stringa e vuota la restituisce come tale)\n",
    "    ---> se sono uguali allora si passa al prossimo e si confronta\n",
    "    "
   ]
  },
  {
   "cell_type": "code",
   "execution_count": 20,
   "metadata": {},
   "outputs": [
    {
     "name": "stdout",
     "output_type": "stream",
     "text": [
      "flow\n"
     ]
    }
   ],
   "source": [
    "\n",
    "\n",
    "class Solution():\n",
    "    def longestCommonPrefix(self, strs=[])->str:\n",
    "        prefix = strs[0]\n",
    "\n",
    "\n",
    "        #i due punti sono interpretabili come \"a partire da\" \n",
    "        for strng in strs[1:]:\n",
    "            #qua inizia a rimuovere elementi dal primo elemento della lista fiche non coicidono\n",
    "            while not strng.startswith(prefix):\n",
    "                #con [:-1] rimuove dalla fine un elemnto se le due stringhe sono diverse\n",
    "                prefix = prefix[:-1]\n",
    "                if not prefix:\n",
    "                    return \"\"\n",
    "        return prefix\n",
    "s = Solution()\n",
    "b=[\"flower\", \"flow\", \"flowight\"]\n",
    "print(s.longestCommonPrefix(b))"
   ]
  },
  {
   "cell_type": "markdown",
   "metadata": {},
   "source": [
    "Esercizio \"brautiful numbers\" \n",
    "Questa soluzione non e passata perche c'ha impiegato troppa memoria per i problemi di ottimizzazione \n",
    "Logica\n",
    "--->dopo aver preso l'intervallo e messo in una lista prende ogni numero e lo    divide nelle sue cifre\n",
    "    --->fa somma e prodotto tra di loro e poi incrementa un contatore se il loro prodotto e = a 0\n",
    "    \n"
   ]
  },
  {
   "cell_type": "code",
   "execution_count": 6,
   "metadata": {},
   "outputs": [
    {
     "name": "stdout",
     "output_type": "stream",
     "text": [
      "2\n"
     ]
    }
   ],
   "source": [
    "class Solution():\n",
    "    def beautifulNumbers(self, l=(int), r=(int))->int:\n",
    "        primo, ultimo = min(l,r), max(l,r)\n",
    "        validi = 0\n",
    "        intervallo = list(range(primo , ultimo+1))\n",
    "        for i in intervallo:\n",
    "            temp_list= [int(c) for c in str(i)]\n",
    "            somma_cifre = sum(temp_list)\n",
    "            prodotto_cifre = 1 if temp_list else 0\n",
    "\n",
    "            for cifra in temp_list:\n",
    "                prodotto_cifre *= cifra\n",
    "            \n",
    "            if somma_cifre > 0 and prodotto_cifre % somma_cifre == 0:\n",
    "                validi += 1\n",
    "\n",
    "        return validi\n",
    "    \n",
    "s = Solution()\n",
    "print (s.beautifulNumbers(10,20))"
   ]
  },
  {
   "cell_type": "code",
   "execution_count": 9,
   "metadata": {},
   "outputs": [
    {
     "name": "stdout",
     "output_type": "stream",
     "text": [
      "[('a', 5), ('b', 4), ('c', 1), ('a', 2), ('b', 1)]\n"
     ]
    }
   ],
   "source": [
    "def robaTrovataPt1(entrata):\n",
    "\n",
    "    contatore = 1\n",
    "\n",
    "    risultato= []\n",
    "    entrata = \"aaaaabbbbcaab\"\n",
    "\n",
    "    for a in range(1, len(entrata)):\n",
    "        if entrata[a]==entrata[a-1]:\n",
    "            contatore += 1\n",
    "        else:\n",
    "            risultato.append((entrata[a-1],contatore))\n",
    "            contatore = 1\n",
    "    risultato.append((entrata[-1],contatore))\n",
    "\n",
    "    return risultato\n",
    "entrata = \"aaaaabbbbcaab\"\n",
    "print(robaTrovataPt1(entrata))"
   ]
  },
  {
   "cell_type": "code",
   "execution_count": 10,
   "metadata": {},
   "outputs": [
    {
     "name": "stdout",
     "output_type": "stream",
     "text": [
      "]DA,Zjh7Zd\n"
     ]
    }
   ],
   "source": [
    "import string\n",
    "import random\n",
    "\n",
    "def password_gen(password_len):\n",
    "    possibili_caratteri=string.ascii_letters + string.digits+string.punctuation\n",
    "\n",
    "    parola= ''.join(random.choice(possibili_caratteri)for _ in range(password_len))\n",
    "    return parola\n",
    "\n",
    "l=int(input(\"inserire lunghezza desiderata della password :\"))\n",
    "print (password_gen(l))\n",
    "    "
   ]
  }
 ],
 "metadata": {
  "kernelspec": {
   "display_name": "base",
   "language": "python",
   "name": "python3"
  },
  "language_info": {
   "codemirror_mode": {
    "name": "ipython",
    "version": 3
   },
   "file_extension": ".py",
   "mimetype": "text/x-python",
   "name": "python",
   "nbconvert_exporter": "python",
   "pygments_lexer": "ipython3",
   "version": "3.12.7"
  }
 },
 "nbformat": 4,
 "nbformat_minor": 2
}
